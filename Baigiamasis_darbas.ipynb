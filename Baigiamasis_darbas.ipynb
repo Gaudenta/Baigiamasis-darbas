{
  "cells": [
    {
      "cell_type": "code",
      "execution_count": null,
      "metadata": {
        "colab": {
          "base_uri": "https://localhost:8080/"
        },
        "id": "M33YbOpI-OPg",
        "outputId": "7ea6b064-a857-404d-f89b-fc1db8ebe5f5"
      },
      "outputs": [
        {
          "name": "stdout",
          "output_type": "stream",
          "text": [
            "Requirement already satisfied: pandas in c:\\users\\migle\\appdata\\local\\programs\\python\\python39\\lib\\site-packages (2.3.1)\n",
            "Requirement already satisfied: numpy>=1.22.4 in c:\\users\\migle\\appdata\\local\\programs\\python\\python39\\lib\\site-packages (from pandas) (2.0.2)\n",
            "Requirement already satisfied: python-dateutil>=2.8.2 in c:\\users\\migle\\appdata\\local\\programs\\python\\python39\\lib\\site-packages (from pandas) (2.9.0.post0)\n",
            "Requirement already satisfied: pytz>=2020.1 in c:\\users\\migle\\appdata\\local\\programs\\python\\python39\\lib\\site-packages (from pandas) (2025.2)\n",
            "Requirement already satisfied: tzdata>=2022.7 in c:\\users\\migle\\appdata\\local\\programs\\python\\python39\\lib\\site-packages (from pandas) (2025.2)\n",
            "Requirement already satisfied: six>=1.5 in c:\\users\\migle\\appdata\\local\\programs\\python\\python39\\lib\\site-packages (from python-dateutil>=2.8.2->pandas) (1.17.0)\n",
            "Requirement already satisfied: pyodbc in c:\\users\\migle\\appdata\\local\\programs\\python\\python39\\lib\\site-packages (5.2.0)\n",
            "Requirement already satisfied: sqlalchemy in c:\\users\\migle\\appdata\\local\\programs\\python\\python39\\lib\\site-packages (2.0.42)\n",
            "Requirement already satisfied: greenlet>=1 in c:\\users\\migle\\appdata\\local\\programs\\python\\python39\\lib\\site-packages (from sqlalchemy) (3.2.4)\n",
            "Requirement already satisfied: typing-extensions>=4.6.0 in c:\\users\\migle\\appdata\\local\\programs\\python\\python39\\lib\\site-packages (from sqlalchemy) (4.14.1)\n"
          ]
        }
      ],
      "source": [
        "\n",
        "# Importuojame reikiamas bibliotekas\n",
        "import pandas as pd\n",
        "import pyodbc\n",
        "import sqlalchemy"
      ]
    },
    {
      "cell_type": "code",
      "execution_count": null,
      "metadata": {
        "id": "s7ddOWqu6Du-"
      },
      "outputs": [],
      "source": [
        "# Nuskaitome dviračių pardavimo duomenis iš CSV failo\n",
        "df = pd.read_csv(\"bike_sales_100k.csv\")"
      ]
    },
    {
      "cell_type": "code",
      "execution_count": null,
      "metadata": {
        "id": "wzl4kzfs7kVT"
      },
      "outputs": [],
      "source": [
        "# Konvertuojame datos stulpelį į datetime formatą\n",
        "df['Date'] = pd.to_datetime(df['Date'], format='%d-%m-%Y', errors='coerce')\n",
        "# Konvertuojame skaitinius stulpelius\n",
        "df['Price'] = pd.to_numeric(df['Price'], errors='coerce')\n",
        "df['Quantity'] = pd.to_numeric(df['Quantity'], errors='coerce')\n",
        "df['Customer_Age'] = pd.to_numeric(df['Customer_Age'], errors='coerce')"
      ]
    },
    {
      "cell_type": "code",
      "execution_count": null,
      "metadata": {
        "colab": {
          "base_uri": "https://localhost:8080/",
          "height": 313
        },
        "id": "xsS75Rhq6NZz",
        "outputId": "ae47eeda-3cf2-4b50-e5b7-df5d998a5a33"
      },
      "outputs": [
        {
          "data": {
            "text/html": [
              "<div>\n",
              "<style scoped>\n",
              "    .dataframe tbody tr th:only-of-type {\n",
              "        vertical-align: middle;\n",
              "    }\n",
              "\n",
              "    .dataframe tbody tr th {\n",
              "        vertical-align: top;\n",
              "    }\n",
              "\n",
              "    .dataframe thead th {\n",
              "        text-align: right;\n",
              "    }\n",
              "</style>\n",
              "<table border=\"1\" class=\"dataframe\">\n",
              "  <thead>\n",
              "    <tr style=\"text-align: right;\">\n",
              "      <th></th>\n",
              "      <th>Sale_ID</th>\n",
              "      <th>Date</th>\n",
              "      <th>Customer_ID</th>\n",
              "      <th>Bike_Model</th>\n",
              "      <th>Price</th>\n",
              "      <th>Quantity</th>\n",
              "      <th>Store_Location</th>\n",
              "      <th>Salesperson_ID</th>\n",
              "      <th>Payment_Method</th>\n",
              "      <th>Customer_Age</th>\n",
              "      <th>Customer_Gender</th>\n",
              "    </tr>\n",
              "  </thead>\n",
              "  <tbody>\n",
              "    <tr>\n",
              "      <th>0</th>\n",
              "      <td>1</td>\n",
              "      <td>2022-07-11</td>\n",
              "      <td>9390</td>\n",
              "      <td>Cruiser</td>\n",
              "      <td>318.32</td>\n",
              "      <td>1</td>\n",
              "      <td>Philadelphia</td>\n",
              "      <td>589</td>\n",
              "      <td>Apple Pay</td>\n",
              "      <td>70</td>\n",
              "      <td>Female</td>\n",
              "    </tr>\n",
              "    <tr>\n",
              "      <th>1</th>\n",
              "      <td>2</td>\n",
              "      <td>2024-05-03</td>\n",
              "      <td>3374</td>\n",
              "      <td>Hybrid Bike</td>\n",
              "      <td>3093.47</td>\n",
              "      <td>4</td>\n",
              "      <td>Chicago</td>\n",
              "      <td>390</td>\n",
              "      <td>Apple Pay</td>\n",
              "      <td>37</td>\n",
              "      <td>Male</td>\n",
              "    </tr>\n",
              "    <tr>\n",
              "      <th>2</th>\n",
              "      <td>3</td>\n",
              "      <td>2022-09-01</td>\n",
              "      <td>2689</td>\n",
              "      <td>Folding Bike</td>\n",
              "      <td>4247.99</td>\n",
              "      <td>3</td>\n",
              "      <td>San Antonio</td>\n",
              "      <td>338</td>\n",
              "      <td>PayPal</td>\n",
              "      <td>59</td>\n",
              "      <td>Female</td>\n",
              "    </tr>\n",
              "    <tr>\n",
              "      <th>3</th>\n",
              "      <td>4</td>\n",
              "      <td>2022-09-28</td>\n",
              "      <td>3797</td>\n",
              "      <td>Mountain Bike</td>\n",
              "      <td>1722.01</td>\n",
              "      <td>3</td>\n",
              "      <td>San Antonio</td>\n",
              "      <td>352</td>\n",
              "      <td>Apple Pay</td>\n",
              "      <td>19</td>\n",
              "      <td>Male</td>\n",
              "    </tr>\n",
              "    <tr>\n",
              "      <th>4</th>\n",
              "      <td>5</td>\n",
              "      <td>2021-01-05</td>\n",
              "      <td>1633</td>\n",
              "      <td>BMX</td>\n",
              "      <td>3941.44</td>\n",
              "      <td>3</td>\n",
              "      <td>Philadelphia</td>\n",
              "      <td>580</td>\n",
              "      <td>PayPal</td>\n",
              "      <td>67</td>\n",
              "      <td>Female</td>\n",
              "    </tr>\n",
              "  </tbody>\n",
              "</table>\n",
              "</div>"
            ],
            "text/plain": [
              "   Sale_ID       Date  Customer_ID     Bike_Model    Price  Quantity  \\\n",
              "0        1 2022-07-11         9390        Cruiser   318.32         1   \n",
              "1        2 2024-05-03         3374    Hybrid Bike  3093.47         4   \n",
              "2        3 2022-09-01         2689   Folding Bike  4247.99         3   \n",
              "3        4 2022-09-28         3797  Mountain Bike  1722.01         3   \n",
              "4        5 2021-01-05         1633            BMX  3941.44         3   \n",
              "\n",
              "  Store_Location  Salesperson_ID Payment_Method  Customer_Age Customer_Gender  \n",
              "0   Philadelphia             589      Apple Pay            70          Female  \n",
              "1        Chicago             390      Apple Pay            37            Male  \n",
              "2    San Antonio             338         PayPal            59          Female  \n",
              "3    San Antonio             352      Apple Pay            19            Male  \n",
              "4   Philadelphia             580         PayPal            67          Female  "
            ]
          },
          "metadata": {},
          "output_type": "display_data"
        }
      ],
      "source": [
        "# Peržiūrime pirmas 5 duomenų eilutes\n",
        "display(df.head())"
      ]
    },
    {
      "cell_type": "code",
      "execution_count": null,
      "metadata": {
        "id": "AloTI_Ry8-ih"
      },
      "outputs": [],
      "source": [
        "# Pakeičiame NaN reikšmes į None (SQL NULL reikšmėms)\n",
        "df = df.where(pd.notnull(df), None)"
      ]
    },
    {
      "cell_type": "code",
      "execution_count": null,
      "metadata": {
        "id": "8cFtRDka9Gmy"
      },
      "outputs": [],
      "source": [
        "# SQL Server prisijungimo parametrai\n",
        "conn_str = (\n",
        "    r\"Driver={ODBC Driver 17 for SQL Server};\"\n",
        "    r\"Server=USERNAME;\"\n",
        "    r\"Database=BikeStoreDB;\"\n",
        "    r\"Trusted_Connection=yes;\"\n",
        ")\n"
      ]
    },
    {
      "cell_type": "code",
      "execution_count": null,
      "metadata": {
        "colab": {
          "base_uri": "https://localhost:8080/",
          "height": 182
        },
        "id": "4SoFDXOi9gTN",
        "outputId": "cd1e9f8e-85e7-400f-c767-82dd69575ba6"
      },
      "outputs": [],
      "source": [
        "# Sukuriame prisijungimą prie duomenų bazės\n",
        "conn = pyodbc.connect(conn_str, autocommit=False)\n",
        "cursor = conn.cursor()\n",
        "cursor.fast_executemany = True"
      ]
    },
    {
      "cell_type": "code",
      "execution_count": null,
      "metadata": {},
      "outputs": [],
      "source": [
        "# SQL užklausa duomenų įterpimui\n",
        "insert_sql = \"\"\"\n",
        "INSERT INTO BikeSales\n",
        "(Sale_ID, Date, Customer_ID, Bike_Model, Price, Quantity, Store_Location, Salesperson_ID, Payment_Method, Customer_Age, Customer_Gender)\n",
        "VALUES (?,?,?,?,?,?,?,?,?,?,?)\n",
        "\"\"\""
      ]
    },
    {
      "cell_type": "code",
      "execution_count": null,
      "metadata": {},
      "outputs": [],
      "source": [
        "# Stulpelių sąrašas duomenų įkėlimui\n",
        "cols = ['Sale_ID','Date','Customer_ID','Bike_Model','Price','Quantity','Store_Location','Salesperson_ID','Payment_Method','Customer_Age','Customer_Gender']\n",
        "data_iterable = (tuple(x) for x in df[cols].itertuples(index=False, name=None))"
      ]
    },
    {
      "cell_type": "code",
      "execution_count": null,
      "metadata": {},
      "outputs": [
        {
          "name": "stdout",
          "output_type": "stream",
          "text": [
            "Inserted rows 0..4999\n",
            "Inserted rows 5000..9999\n",
            "Inserted rows 10000..14999\n",
            "Inserted rows 15000..19999\n",
            "Inserted rows 20000..24999\n",
            "Inserted rows 25000..29999\n",
            "Inserted rows 30000..34999\n",
            "Inserted rows 35000..39999\n",
            "Inserted rows 40000..44999\n",
            "Inserted rows 45000..49999\n",
            "Inserted rows 50000..54999\n",
            "Inserted rows 55000..59999\n",
            "Inserted rows 60000..64999\n",
            "Inserted rows 65000..69999\n",
            "Inserted rows 70000..74999\n",
            "Inserted rows 75000..79999\n",
            "Inserted rows 80000..84999\n",
            "Inserted rows 85000..89999\n",
            "Inserted rows 90000..94999\n",
            "Inserted rows 95000..99999\n"
          ]
        }
      ],
      "source": [
        "# Paruošiame duomenis įkėlimui dalimis (chunks)\n",
        "chunk_size = 5000 # Įkeliame po 5000 įrašų vienu kartu\n",
        "data_list = list(df[cols].itertuples(index=False, name=None))\n",
        "# Įkeliame duomenis dalimis, kad išvengtume atminties problemų\n",
        "for i in range(0, len(data_list), chunk_size):\n",
        "    chunk = data_list[i:i+chunk_size]\n",
        "    cursor.executemany(insert_sql, chunk)\n",
        "    conn.commit() # Išsaugome pakeitimus duomenų bazėje\n",
        "    \n",
        "    print(f\"Inserted rows {i}..{i+len(chunk)-1}\")\n"
      ]
    },
    {
      "cell_type": "code",
      "execution_count": null,
      "metadata": {},
      "outputs": [
        {
          "name": "stdout",
          "output_type": "stream",
          "text": [
            "Upload finished.\n"
          ]
        }
      ],
      "source": [
        "# Uždarome kursorių ir prisijungimą\n",
        "cursor.close()\n",
        "conn.close()\n",
        "print(\"Upload finished.\")"
      ]
    }
  ],
  "metadata": {
    "colab": {
      "provenance": []
    },
    "kernelspec": {
      "display_name": "Python 3",
      "name": "python3"
    },
    "language_info": {
      "codemirror_mode": {
        "name": "ipython",
        "version": 3
      },
      "file_extension": ".py",
      "mimetype": "text/x-python",
      "name": "python",
      "nbconvert_exporter": "python",
      "pygments_lexer": "ipython3",
      "version": "3.10.0"
    }
  },
  "nbformat": 4,
  "nbformat_minor": 0
}
